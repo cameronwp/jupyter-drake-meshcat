{
 "cells": [
  {
   "cell_type": "markdown",
   "metadata": {},
   "source": [
    "_The following sample was modified from [here](https://manipulation.csail.mit.edu/intro.html) to demonstrate that https://github.com/cameronwp/jupyter-drake-meshcat is capable of running locally._"
   ]
  },
  {
   "cell_type": "markdown",
   "metadata": {
    "cell_id": "00000-d9fe9515-778e-442a-bec3-79d1d80d15c1",
    "colab_type": "text",
    "deepnote_cell_type": "markdown",
    "id": "TKvYiJgnYExi"
   },
   "source": [
    "This notebook provides examples to go along with the [textbook](http://manipulation.csail.mit.edu/intro.html).  I recommend having both windows open, side-by-side!"
   ]
  },
  {
   "cell_type": "code",
   "execution_count": 1,
   "metadata": {
    "cell_id": "00001-c61e71f0-7a55-406d-86c6-e83c8c040b47",
    "colab": {},
    "colab_type": "code",
    "deepnote_cell_type": "code",
    "deepnote_to_be_reexecuted": false,
    "execution_millis": 2122,
    "execution_start": 1631205627158,
    "id": "A4QOaw_zYLfI",
    "source_hash": "87cd665a"
   },
   "outputs": [],
   "source": [
    "# Imports\n",
    "import numpy as np\n",
    "\n",
    "from pydrake.examples.manipulation_station import ManipulationStation\n",
    "from pydrake.geometry import MeshcatVisualizerCpp\n",
    "from pydrake.manipulation.planner import (  \n",
    "  DifferentialInverseKinematicsParameters, \n",
    "  DifferentialInverseKinematicsIntegrator )\n",
    "from pydrake.math import RigidTransform, RotationMatrix\n",
    "from pydrake.systems.analysis import Simulator\n",
    "from pydrake.systems.framework import DiagramBuilder\n",
    "\n",
    "from manipulation import running_as_notebook\n",
    "from manipulation.meshcat_cpp_utils import (\n",
    "  StartMeshcat, MeshcatPoseSliders, WsgButton)"
   ]
  },
  {
   "cell_type": "code",
   "execution_count": 2,
   "metadata": {
    "cell_id": "00002-aa1eab7c-d81b-422b-985b-84025bf70ab6",
    "deepnote_cell_type": "code",
    "deepnote_to_be_reexecuted": false,
    "execution_millis": 13,
    "execution_start": 1631205629295,
    "source_hash": "c5d2e4a0"
   },
   "outputs": [
    {
     "data": {
      "text/html": [
       "Meshcat is now available at <a href=\"http://localhost:7000\">http://localhost:7000</a>"
      ],
      "text/plain": [
       "<IPython.core.display.HTML object>"
      ]
     },
     "metadata": {},
     "output_type": "display_data"
    },
    {
     "data": {
      "application/javascript": [
       "window.open(\"http://localhost:7000\");"
      ],
      "text/plain": [
       "<IPython.core.display.Javascript object>"
      ]
     },
     "metadata": {},
     "output_type": "display_data"
    }
   ],
   "source": [
    "# Start the visualizer.\n",
    "meshcat = StartMeshcat()"
   ]
  },
  {
   "cell_type": "markdown",
   "metadata": {
    "cell_id": "00003-4f3ba73b-b468-41ee-b45a-ffd134a1cda5",
    "colab_type": "text",
    "deepnote_cell_type": "markdown",
    "id": "C1sdq2R88C16"
   },
   "source": [
    "# Teleop Example (2D)\n",
    "\n",
    "In this example, we assemble a diagram with all of the relevant subsystems (the manipulation station, the meshcat visualizer, and some systems that provide a minimal teleop interface and convert the teleop output from end-effector commands into joint commands.  We'll learn more about each of these components in the following chapters.\n",
    "\n",
    "**NOTE:** If you command the robot to move its gripper beyond what is possible, then you get a message about \"differential IK\" failing.  I've left that in for now (rather than setting very conservative slider limits) partly because it has tutorial value.  We'll understand it more precisely soon!  For now, just stop the simulation and rerun the cell if you get stuck.\n"
   ]
  },
  {
   "cell_type": "code",
   "execution_count": 4,
   "metadata": {
    "cell_id": "00004-8ee9bb34-06e8-4170-887c-c37dbdee017f",
    "colab": {},
    "colab_type": "code",
    "deepnote_cell_type": "code",
    "deepnote_to_be_reexecuted": false,
    "execution_millis": 52847,
    "execution_start": 1631213022216,
    "id": "7dimkJhd9DjP",
    "source_hash": "40857c4b"
   },
   "outputs": [],
   "source": [
    "def teleop_2d():\n",
    "  builder = DiagramBuilder()\n",
    "\n",
    "  station = builder.AddSystem(ManipulationStation())\n",
    "  station.SetupPlanarIiwaStation()\n",
    "  station.AddManipulandFromFile(\n",
    "      \"drake/examples/manipulation_station/models/\"\n",
    "      + \"061_foam_brick.sdf\",\n",
    "      RigidTransform(RotationMatrix.Identity(), [0.6, 0, 0]))\n",
    "  # TODO(russt): Add planar joint to brick\n",
    "  station.Finalize()\n",
    "\n",
    "  visualizer = MeshcatVisualizerCpp.AddToBuilder(\n",
    "      builder, station.GetOutputPort(\"query_object\"), meshcat)\n",
    "  meshcat.Set2dRenderMode()\n",
    "\n",
    "  robot = station.get_controller_plant()\n",
    "  params = DifferentialInverseKinematicsParameters(\n",
    "      robot.num_positions(), robot.num_velocities())\n",
    "\n",
    "  time_step = 0.005\n",
    "  params.set_timestep(time_step)\n",
    "  iiwa14_velocity_limits = np.array([1.4, 1.3, 2.3])\n",
    "  params.set_joint_velocity_limits((-iiwa14_velocity_limits,\n",
    "                                    iiwa14_velocity_limits))\n",
    "  # These constants are in body frame.\n",
    "  params.set_end_effector_velocity_gain([.1, 0, 0, 0, .1, .1])\n",
    "  differential_ik = builder.AddSystem(\n",
    "      DifferentialInverseKinematicsIntegrator(\n",
    "          robot, robot.GetFrameByName(\"iiwa_link_7\"), time_step, params))\n",
    "  builder.Connect(differential_ik.get_output_port(),\n",
    "                  station.GetInputPort(\"iiwa_position\"))\n",
    "\n",
    "  # meshcat.DeleteAllButtonsAndSliders()\n",
    "  teleop = builder.AddSystem(MeshcatPoseSliders(meshcat,\n",
    "      min_range=MeshcatPoseSliders.MinRange(\n",
    "          roll=0, x=-0.6, z=0.0),\n",
    "      max_range=MeshcatPoseSliders.MaxRange(\n",
    "          roll=2*np.pi, x=0.8, z=1.1),\n",
    "      value=MeshcatPoseSliders.Value(pitch=0, yaw=0, y=0),\n",
    "      visible=MeshcatPoseSliders.Visible(pitch=False, yaw=False, y=False) \n",
    "  ))\n",
    "  builder.Connect(teleop.get_output_port(0), \n",
    "                  differential_ik.get_input_port())\n",
    "  wsg_teleop = builder.AddSystem(WsgButton(meshcat))\n",
    "  builder.Connect(wsg_teleop.get_output_port(0),\n",
    "                  station.GetInputPort(\"wsg_position\"))\n",
    "\n",
    "  diagram = builder.Build()\n",
    "  simulator = Simulator(diagram)\n",
    "  context = simulator.get_mutable_context()\n",
    "  station_context = station.GetMyMutableContextFromRoot(context)\n",
    "\n",
    "  q0 = station.GetOutputPort(\"iiwa_position_measured\").Eval(\n",
    "      station_context)\n",
    "  differential_ik.get_mutable_parameters().set_nominal_joint_position(q0)\n",
    "  diff_ik_context = differential_ik.GetMyMutableContextFromRoot(context)\n",
    "  differential_ik.SetPositions(diff_ik_context, q0)\n",
    "  teleop.SetPose(differential_ik.ForwardKinematics(diff_ik_context))\n",
    "\n",
    "  if running_as_notebook:  # Then we're not just running as a test on CI.\n",
    "      simulator.set_target_realtime_rate(1.0)\n",
    "\n",
    "      meshcat.AddButton(\"Stop Simulation\")\n",
    "      while meshcat.GetButtonClicks(\"Stop Simulation\") < 1:\n",
    "          simulator.AdvanceTo(simulator.get_context().get_time() + 2.0)\n",
    "      meshcat.DeleteButton(\"Stop Simulation\")\n",
    "\n",
    "  else:\n",
    "      simulator.AdvanceTo(0.1)\n",
    "\n",
    "teleop_2d()\n"
   ]
  },
  {
   "cell_type": "markdown",
   "metadata": {
    "cell_id": "00005-838aa84b-82ba-4a7d-aa04-8ab5fee442d1",
    "colab_type": "text",
    "deepnote_cell_type": "markdown",
    "id": "4cTkwpJU8tGX"
   },
   "source": [
    "# Teleop Example (3D)\n",
    "\n",
    "The physics and geometry engines running in the simulation above are actually running in 3D.  This example is almost identical, but we'll use the (default) 3D visualization and add more sliders for controlling the full `roll`, `pitch`, `yaw` angles and `x`, `y`, `z` positions of the end effector."
   ]
  },
  {
   "cell_type": "code",
   "execution_count": null,
   "metadata": {
    "cell_id": "00006-1dc9119c-d7bd-436c-a549-2a6f6793d32f",
    "colab": {},
    "colab_type": "code",
    "deepnote_cell_type": "code",
    "deepnote_to_be_reexecuted": false,
    "execution_millis": 51236,
    "execution_start": 1631213085586,
    "id": "8wj7ZlyEw_AB",
    "source_hash": "6fdeeaf8"
   },
   "outputs": [],
   "source": [
    "def teleop_3d():\n",
    "    builder = DiagramBuilder()\n",
    "\n",
    "    station = builder.AddSystem(ManipulationStation())\n",
    "\n",
    "    station.SetupClutterClearingStation()\n",
    "    #ycb_objects = CreateClutterClearingYcbObjectList()\n",
    "    #for model_file, X_WObject in ycb_objects:\n",
    "    #    station.AddManipulandFromFile(model_file, X_WObject)\n",
    "    station.AddManipulandFromFile(\n",
    "        \"drake/examples/manipulation_station/models/\"\n",
    "        + \"061_foam_brick.sdf\",\n",
    "        RigidTransform(RotationMatrix.Identity(), [0, -0.6, 0.2]))\n",
    "    station.Finalize()\n",
    "\n",
    "    visualizer = MeshcatVisualizerCpp.AddToBuilder(\n",
    "        builder, station.GetOutputPort(\"query_object\"), meshcat)\n",
    "    meshcat.ResetRenderMode()\n",
    "\n",
    "    robot = station.get_controller_plant()\n",
    "    params = DifferentialInverseKinematicsParameters(\n",
    "        robot.num_positions(), robot.num_velocities())\n",
    "\n",
    "    time_step = 0.005\n",
    "    params.set_timestep(time_step)\n",
    "    # True velocity limits for the IIWA14 (in rad, rounded down to the first\n",
    "    # decimal)\n",
    "    iiwa14_velocity_limits = np.array([1.4, 1.4, 1.7, 1.3, 2.2, 2.3, 2.3])\n",
    "    params.set_joint_velocity_limits((-iiwa14_velocity_limits,\n",
    "                                    iiwa14_velocity_limits))\n",
    "    params.set_end_effector_velocity_gain([.1]*6)\n",
    "    differential_ik = builder.AddSystem(DifferentialInverseKinematicsIntegrator(\n",
    "            robot, robot.GetFrameByName(\"iiwa_link_7\"), time_step, params))\n",
    "    builder.Connect(differential_ik.get_output_port(),\n",
    "                    station.GetInputPort(\"iiwa_position\"))\n",
    "\n",
    "    teleop = builder.AddSystem(MeshcatPoseSliders(meshcat,\n",
    "        min_range = MeshcatPoseSliders.MinRange(\n",
    "            roll=0, pitch=-0.5, yaw=-np.pi, x=-0.6, y=-0.8, z=0.0),\n",
    "        max_range = MeshcatPoseSliders.MaxRange(\n",
    "            roll=2*np.pi, pitch=np.pi, yaw=np.pi, x=0.8, y=0.3, z=1.1)\n",
    "    ))\n",
    "    builder.Connect(teleop.get_output_port(0), \n",
    "                    differential_ik.get_input_port())\n",
    "    wsg_teleop = builder.AddSystem(WsgButton(meshcat))\n",
    "    builder.Connect(wsg_teleop.get_output_port(0),\n",
    "                    station.GetInputPort(\"wsg_position\"))\n",
    "\n",
    "    diagram = builder.Build()\n",
    "    simulator = Simulator(diagram)\n",
    "    context = simulator.get_mutable_context()\n",
    "\n",
    "    station_context = station.GetMyMutableContextFromRoot(context)\n",
    "\n",
    "    q0 = station.GetOutputPort(\"iiwa_position_measured\").Eval(\n",
    "        station_context)\n",
    "    differential_ik.get_mutable_parameters().set_nominal_joint_position(q0)\n",
    "    diff_ik_context = differential_ik.GetMyMutableContextFromRoot(context)\n",
    "    differential_ik.SetPositions(diff_ik_context, q0)\n",
    "    teleop.SetPose(differential_ik.ForwardKinematics(diff_ik_context))\n",
    "\n",
    "    if running_as_notebook:  # Then we're not just running as a test on CI.\n",
    "        simulator.set_target_realtime_rate(1.0)\n",
    "\n",
    "        meshcat.AddButton(\"Stop Simulation\")\n",
    "        while meshcat.GetButtonClicks(\"Stop Simulation\") < 1:\n",
    "            simulator.AdvanceTo(simulator.get_context().get_time() + 2.0)\n",
    "        meshcat.DeleteButton(\"Stop Simulation\")\n",
    "    \n",
    "    else:\n",
    "        simulator.AdvanceTo(0.1)\n",
    "\n",
    "teleop_3d()"
   ]
  },
  {
   "cell_type": "code",
   "execution_count": null,
   "metadata": {
    "cell_id": "00007-3970eef2-4804-4eb9-93dd-51526bed42bb",
    "deepnote_cell_type": "code",
    "deepnote_to_be_reexecuted": false,
    "execution_millis": 0,
    "execution_start": 1631211111927,
    "source_hash": "b623e53d"
   },
   "outputs": [],
   "source": []
  },
  {
   "cell_type": "markdown",
   "metadata": {
    "created_in_deepnote_cell": true,
    "deepnote_cell_type": "markdown",
    "tags": []
   },
   "source": [
    "<a style='text-decoration:none;line-height:16px;display:flex;color:#5B5B62;padding:10px;justify-content:end;' href='https://deepnote.com?utm_source=created-in-deepnote-cell&projectId=6e32ce10-e406-4026-abfb-00be78c478cb' target=\"_blank\">\n",
    "<img alt='Created in deepnote.com' style='display:inline;max-height:16px;margin:0px;margin-right:7.5px;' src='data:image/svg+xml;base64,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' > </img>\n",
    "Created in <span style='font-weight:600;margin-left:4px;'>Deepnote</span></a>"
   ]
  }
 ],
 "metadata": {
  "colab": {
   "collapsed_sections": [],
   "name": "Robotic Manipulation - Introduction.ipynb",
   "provenance": [],
   "toc_visible": true
  },
  "deepnote": {},
  "deepnote_execution_queue": [],
  "deepnote_notebook_id": "21fdd665-59b1-4a0f-b9ed-868be1298505",
  "interpreter": {
   "hash": "31f2aee4e71d21fbe5cf8b01ff0e069b9275f58929596ceb00d14d90e3e16cd6"
  },
  "kernelspec": {
   "display_name": "Python 3 (ipykernel)",
   "language": "python",
   "name": "python3"
  },
  "language_info": {
   "codemirror_mode": {
    "name": "ipython",
    "version": 3
   },
   "file_extension": ".py",
   "mimetype": "text/x-python",
   "name": "python",
   "nbconvert_exporter": "python",
   "pygments_lexer": "ipython3",
   "version": "3.8.10"
  }
 },
 "nbformat": 4,
 "nbformat_minor": 4
}
